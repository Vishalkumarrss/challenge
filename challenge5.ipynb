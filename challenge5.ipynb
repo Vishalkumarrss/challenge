{
 "cells": [
  {
   "cell_type": "raw",
   "id": "68a0b917",
   "metadata": {},
   "source": [
    "Todays task :\n",
    "    q1 : Try to print a prime number in between 1 to 1000\n",
    "    q2 : Try to write a function which  is equivalent  to print function in python\n",
    "    q3 : Try to write a function which is a replica of list append , extend and pop function \n",
    "    q4 : Try to write a lambda function which can return a concatination of all the string that we will pass\n",
    "    q5 : Try to write a lambda function which can return list of square of all the data between 1-100 \n",
    "    q6 : Try to write a 10 Different different example of lambda function with a choice of your taks \n",
    "    q7 : Try to wwrite a funtion whihc can perform a read operation from .txt file \n",
    "        \n",
    "        shivan@ineuron.ai\n",
    "        sudhashu@ineuron.ai"
   ]
  },
  {
   "cell_type": "code",
   "execution_count": 15,
   "id": "f0b2b665",
   "metadata": {
    "scrolled": true
   },
   "outputs": [
    {
     "name": "stdout",
     "output_type": "stream",
     "text": [
      "2 is a prime number\n",
      "3 is a prime number\n",
      "5 is a prime number\n",
      "7 is a prime number\n",
      "11 is a prime number\n",
      "13 is a prime number\n",
      "17 is a prime number\n",
      "19 is a prime number\n",
      "23 is a prime number\n",
      "29 is a prime number\n",
      "31 is a prime number\n",
      "37 is a prime number\n",
      "41 is a prime number\n",
      "43 is a prime number\n",
      "47 is a prime number\n",
      "53 is a prime number\n",
      "59 is a prime number\n",
      "61 is a prime number\n",
      "67 is a prime number\n",
      "71 is a prime number\n",
      "73 is a prime number\n",
      "79 is a prime number\n",
      "83 is a prime number\n",
      "89 is a prime number\n",
      "97 is a prime number\n",
      "101 is a prime number\n",
      "103 is a prime number\n",
      "107 is a prime number\n",
      "109 is a prime number\n",
      "113 is a prime number\n",
      "127 is a prime number\n",
      "131 is a prime number\n",
      "137 is a prime number\n",
      "139 is a prime number\n",
      "149 is a prime number\n",
      "151 is a prime number\n",
      "157 is a prime number\n",
      "163 is a prime number\n",
      "167 is a prime number\n",
      "173 is a prime number\n",
      "179 is a prime number\n",
      "181 is a prime number\n",
      "191 is a prime number\n",
      "193 is a prime number\n",
      "197 is a prime number\n",
      "199 is a prime number\n",
      "211 is a prime number\n",
      "223 is a prime number\n",
      "227 is a prime number\n",
      "229 is a prime number\n",
      "233 is a prime number\n",
      "239 is a prime number\n",
      "241 is a prime number\n",
      "251 is a prime number\n",
      "257 is a prime number\n",
      "263 is a prime number\n",
      "269 is a prime number\n",
      "271 is a prime number\n",
      "277 is a prime number\n",
      "281 is a prime number\n",
      "283 is a prime number\n",
      "293 is a prime number\n",
      "307 is a prime number\n",
      "311 is a prime number\n",
      "313 is a prime number\n",
      "317 is a prime number\n",
      "331 is a prime number\n",
      "337 is a prime number\n",
      "347 is a prime number\n",
      "349 is a prime number\n",
      "353 is a prime number\n",
      "359 is a prime number\n",
      "367 is a prime number\n",
      "373 is a prime number\n",
      "379 is a prime number\n",
      "383 is a prime number\n",
      "389 is a prime number\n",
      "397 is a prime number\n",
      "401 is a prime number\n",
      "409 is a prime number\n",
      "419 is a prime number\n",
      "421 is a prime number\n",
      "431 is a prime number\n",
      "433 is a prime number\n",
      "439 is a prime number\n",
      "443 is a prime number\n",
      "449 is a prime number\n",
      "457 is a prime number\n",
      "461 is a prime number\n",
      "463 is a prime number\n",
      "467 is a prime number\n",
      "479 is a prime number\n",
      "487 is a prime number\n",
      "491 is a prime number\n",
      "499 is a prime number\n",
      "503 is a prime number\n",
      "509 is a prime number\n",
      "521 is a prime number\n",
      "523 is a prime number\n",
      "541 is a prime number\n",
      "547 is a prime number\n",
      "557 is a prime number\n",
      "563 is a prime number\n",
      "569 is a prime number\n",
      "571 is a prime number\n",
      "577 is a prime number\n",
      "587 is a prime number\n",
      "593 is a prime number\n",
      "599 is a prime number\n",
      "601 is a prime number\n",
      "607 is a prime number\n",
      "613 is a prime number\n",
      "617 is a prime number\n",
      "619 is a prime number\n",
      "631 is a prime number\n",
      "641 is a prime number\n",
      "643 is a prime number\n",
      "647 is a prime number\n",
      "653 is a prime number\n",
      "659 is a prime number\n",
      "661 is a prime number\n",
      "673 is a prime number\n",
      "677 is a prime number\n",
      "683 is a prime number\n",
      "691 is a prime number\n",
      "701 is a prime number\n",
      "709 is a prime number\n",
      "719 is a prime number\n",
      "727 is a prime number\n",
      "733 is a prime number\n",
      "739 is a prime number\n",
      "743 is a prime number\n",
      "751 is a prime number\n",
      "757 is a prime number\n",
      "761 is a prime number\n",
      "769 is a prime number\n",
      "773 is a prime number\n",
      "787 is a prime number\n",
      "797 is a prime number\n",
      "809 is a prime number\n",
      "811 is a prime number\n",
      "821 is a prime number\n",
      "823 is a prime number\n",
      "827 is a prime number\n",
      "829 is a prime number\n",
      "839 is a prime number\n",
      "853 is a prime number\n",
      "857 is a prime number\n",
      "859 is a prime number\n",
      "863 is a prime number\n",
      "877 is a prime number\n",
      "881 is a prime number\n",
      "883 is a prime number\n",
      "887 is a prime number\n",
      "907 is a prime number\n",
      "911 is a prime number\n",
      "919 is a prime number\n",
      "929 is a prime number\n",
      "937 is a prime number\n",
      "941 is a prime number\n",
      "947 is a prime number\n",
      "953 is a prime number\n",
      "967 is a prime number\n",
      "971 is a prime number\n",
      "977 is a prime number\n",
      "983 is a prime number\n",
      "991 is a prime number\n",
      "997 is a prime number\n"
     ]
    }
   ],
   "source": [
    "#1\n",
    "for i in range(2,1001):\n",
    "    for n in range(2,i):\n",
    "            if (i % n) == 0:\n",
    "                break\n",
    "    else:\n",
    "          print (i, 'is a prime number')"
   ]
  },
  {
   "cell_type": "code",
   "execution_count": 2,
   "id": "b0acd61a",
   "metadata": {},
   "outputs": [
    {
     "data": {
      "text/plain": [
       "11"
      ]
     },
     "execution_count": 2,
     "metadata": {},
     "output_type": "execute_result"
    }
   ],
   "source": [
    "#2\n",
    "def foo(x):\n",
    "    return(x) \n",
    "foo(5)\n",
    "a=5\n",
    "b=6\n",
    "foo(a+b)"
   ]
  },
  {
   "cell_type": "code",
   "execution_count": 3,
   "id": "c03702ce",
   "metadata": {},
   "outputs": [],
   "source": [
    "#3\n",
    "lis=[1,2,3,5,\"abc\",56.55,True]\n",
    "def append_func(l,i):\n",
    "        return l+[i]\n",
    "    \n",
    "def extend_func(l, i):\n",
    "    l[len(l):] = i\n",
    "    return l\n",
    "    \n",
    "def pop_func(l,i):\n",
    "    del l[i]\n",
    "    return l"
   ]
  },
  {
   "cell_type": "code",
   "execution_count": 4,
   "id": "b13d2fdc",
   "metadata": {},
   "outputs": [
    {
     "name": "stdout",
     "output_type": "stream",
     "text": [
      "[1, 2, 3, 5, 'abc', 56.55, True, 20]\n"
     ]
    }
   ],
   "source": [
    "print(append_func(lis,20))"
   ]
  },
  {
   "cell_type": "code",
   "execution_count": 5,
   "id": "4e065be1",
   "metadata": {},
   "outputs": [
    {
     "name": "stdout",
     "output_type": "stream",
     "text": [
      "[1, 2, 3, 5, 'abc', 56.55, True, 'i', 'n', 'e', 'r']\n"
     ]
    }
   ],
   "source": [
    "print(extend_func(lis,'iner'))"
   ]
  },
  {
   "cell_type": "code",
   "execution_count": 6,
   "id": "d96c78d0",
   "metadata": {},
   "outputs": [
    {
     "name": "stdout",
     "output_type": "stream",
     "text": [
      "[1, 2, 5, 'abc', 56.55, True, 'i', 'n', 'e', 'r']\n"
     ]
    }
   ],
   "source": [
    "print(pop_func(lis,2))"
   ]
  },
  {
   "cell_type": "code",
   "execution_count": 7,
   "id": "abaf7e48",
   "metadata": {},
   "outputs": [],
   "source": [
    "#4\n",
    "ts= lambda l='',*s:[l+i  for i in s]"
   ]
  },
  {
   "cell_type": "code",
   "execution_count": 8,
   "id": "8ef2c056",
   "metadata": {},
   "outputs": [
    {
     "data": {
      "text/plain": [
       "['djdjhnmk']"
      ]
     },
     "execution_count": 8,
     "metadata": {},
     "output_type": "execute_result"
    }
   ],
   "source": [
    "ts('djdj','hnmk')"
   ]
  },
  {
   "cell_type": "code",
   "execution_count": 9,
   "id": "ae5d28d5",
   "metadata": {},
   "outputs": [
    {
     "name": "stdout",
     "output_type": "stream",
     "text": [
      "[0, 1, 4, 9, 16, 25, 36, 49, 64, 81, 100, 121, 144, 169, 196, 225, 256, 289, 324, 361, 400, 441, 484, 529, 576, 625, 676, 729, 784, 841, 900, 961, 1024, 1089, 1156, 1225, 1296, 1369, 1444, 1521, 1600, 1681, 1764, 1849, 1936, 2025, 2116, 2209, 2304, 2401, 2500, 2601, 2704, 2809, 2916, 3025, 3136, 3249, 3364, 3481, 3600, 3721, 3844, 3969, 4096, 4225, 4356, 4489, 4624, 4761, 4900, 5041, 5184, 5329, 5476, 5625, 5776, 5929, 6084, 6241, 6400, 6561, 6724, 6889, 7056, 7225, 7396, 7569, 7744, 7921, 8100, 8281, 8464, 8649, 8836, 9025, 9216, 9409, 9604, 9801, 10000]\n"
     ]
    }
   ],
   "source": [
    "#5\n",
    "l=lambda *x:[i**2 for i in range(101)]\n",
    "print(l())"
   ]
  },
  {
   "cell_type": "code",
   "execution_count": 10,
   "id": "93a77e0e",
   "metadata": {},
   "outputs": [
    {
     "name": "stdout",
     "output_type": "stream",
     "text": [
      "[2, 4, 10, 6, 8]\n",
      "[1, 3, 11, 21, 5, 7, 9]\n"
     ]
    }
   ],
   "source": [
    "#6\n",
    "\n",
    "l0 = lambda x,y:x+y\n",
    "l1 = lambda x,y:x-y\n",
    "l2 = lambda x,y:x*y\n",
    "l3 = lambda x,y:x%y==0\n",
    "l4 = lambda x, y : x if(x>y) else y\n",
    "l5 = lambda x: x%2==0\n",
    "l6 = lambda x:str.upper(x)\n",
    "l7 = lambda *x:[i**2 for i in range(1,101) ]\n",
    "\n",
    "l=[1,2,3,4,10,11,21,5,6,7,8,9]\n",
    "even_no=list(filter(lambda x:x%2==0,l))\n",
    "print(even_no)\n",
    "\n",
    "odd_no=list(filter(lambda x:x%2!=0,l))\n",
    "print(odd_no)"
   ]
  },
  {
   "cell_type": "code",
   "execution_count": 11,
   "id": "9ec1c6c2",
   "metadata": {},
   "outputs": [
    {
     "name": "stdout",
     "output_type": "stream",
     "text": [
      "7\n",
      "4\n",
      "20\n",
      "True\n",
      "5\n",
      "False\n",
      "INER\n"
     ]
    }
   ],
   "source": [
    "print(l0(2,5))\n",
    "print(l1(9,5))\n",
    "print(l2(4,5))\n",
    "print (l3(10,5))\n",
    "print(l4(2,5))\n",
    "print(l5(25))\n",
    "print(l6('iner'))"
   ]
  },
  {
   "cell_type": "code",
   "execution_count": 12,
   "id": "59b5f363",
   "metadata": {},
   "outputs": [
    {
     "data": {
      "text/plain": [
       "<_io.TextIOWrapper name='D:\\\\myfile.txt' mode='r+' encoding='cp1252'>"
      ]
     },
     "execution_count": 12,
     "metadata": {},
     "output_type": "execute_result"
    }
   ],
   "source": [
    "#7\n",
    "def read_file():\n",
    "    file = open(\"D:\\myfile.txt\",\"r+\")\n",
    "    return(file)\n",
    "\n",
    "read_file()"
   ]
  }
 ],
 "metadata": {
  "kernelspec": {
   "display_name": "Python 3 (ipykernel)",
   "language": "python",
   "name": "python3"
  },
  "language_info": {
   "codemirror_mode": {
    "name": "ipython",
    "version": 3
   },
   "file_extension": ".py",
   "mimetype": "text/x-python",
   "name": "python",
   "nbconvert_exporter": "python",
   "pygments_lexer": "ipython3",
   "version": "3.9.7"
  }
 },
 "nbformat": 4,
 "nbformat_minor": 5
}
